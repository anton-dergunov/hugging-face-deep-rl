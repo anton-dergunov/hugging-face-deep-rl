{
 "cells": [
  {
   "cell_type": "markdown",
   "metadata": {},
   "source": [
    "## Lunar Lander with PPO\n",
    "\n",
    "TODO Describe this notebook"
   ]
  },
  {
   "cell_type": "code",
   "execution_count": 1,
   "metadata": {},
   "outputs": [],
   "source": [
    "# TODO Document the meaning of this magic\n",
    "%reload_ext autoreload\n",
    "%autoreload 2"
   ]
  },
  {
   "cell_type": "code",
   "execution_count": 2,
   "metadata": {},
   "outputs": [
    {
     "name": "stdout",
     "output_type": "stream",
     "text": [
      "\u001b[33mWARNING: Skipping gym as it is not installed.\u001b[0m\u001b[33m\n",
      "\u001b[0mNote: you may need to restart the kernel to use updated packages.\n",
      "Note: you may need to restart the kernel to use updated packages.\n"
     ]
    }
   ],
   "source": [
    "# Forcefully remove the old 'gym' package to avoid conflicts in Colab\n",
    "%pip uninstall -y gym\n",
    "%pip install -qr https://raw.githubusercontent.com/anton-dergunov/hugging-face-deep-rl/main/requirements.txt"
   ]
  },
  {
   "cell_type": "code",
   "execution_count": 3,
   "metadata": {},
   "outputs": [],
   "source": [
    "# TODO Clean up this list of imports\n",
    "import gymnasium as gym\n",
    "from stable_baselines3 import PPO\n",
    "from stable_baselines3.common.env_util import make_vec_env\n",
    "from stable_baselines3.common.vec_env import VecMonitor\n",
    "from stable_baselines3.common.monitor import Monitor\n",
    "from stable_baselines3.common.evaluation import evaluate_policy\n",
    "from stable_baselines3.common.results_plotter import plot_results\n",
    "from stable_baselines3.common import results_plotter\n",
    "from huggingface_hub import HfApi, create_repo, notebook_login, hf_hub_download\n",
    "import cv2\n",
    "from IPython.display import Video\n",
    "import matplotlib.pyplot as plt\n",
    "from pathlib import Path\n",
    "import hashlib\n",
    "import imageio\n",
    "import os\n",
    "import json\n",
    "import tempfile\n",
    "import warnings"
   ]
  },
  {
   "cell_type": "code",
   "execution_count": 4,
   "metadata": {},
   "outputs": [],
   "source": [
    "import sys\n",
    "import os\n",
    "\n",
    "src_path = os.path.abspath(\"./src\")\n",
    "if src_path not in sys.path:\n",
    "    sys.path.insert(0, src_path)"
   ]
  },
  {
   "cell_type": "code",
   "execution_count": 5,
   "metadata": {},
   "outputs": [],
   "source": [
    "from utils import *"
   ]
  },
  {
   "cell_type": "code",
   "execution_count": 6,
   "metadata": {},
   "outputs": [],
   "source": [
    "setup_ignore_warnings()"
   ]
  },
  {
   "cell_type": "code",
   "execution_count": 7,
   "metadata": {},
   "outputs": [],
   "source": [
    "ENV_ID = \"LunarLander-v3\"\n",
    "MODEL_NAME = \"LunarLander_PPO\"\n",
    "REPO_ID = f\"AntonDergunov/{MODEL_NAME}\""
   ]
  },
  {
   "cell_type": "code",
   "execution_count": 8,
   "metadata": {},
   "outputs": [],
   "source": [
    "MODEL_PATH = f\"models/{MODEL_NAME}.zip\"\n",
    "VIDEO_PATH = f\"videos/{MODEL_NAME}.mp4\"\n",
    "LOGS_PATH = f\"logs/{MODEL_NAME}\"\n",
    "\n",
    "os.makedirs(os.path.dirname(MODEL_PATH), exist_ok=True)\n",
    "os.makedirs(os.path.dirname(VIDEO_PATH), exist_ok=True)\n",
    "os.makedirs(LOGS_PATH, exist_ok=True)"
   ]
  },
  {
   "cell_type": "markdown",
   "metadata": {},
   "source": [
    "### Environment\n",
    "\n",
    "TODO Describe the environment\n",
    "https://gymnasium.farama.org/environments/box2d/lunar_lander/"
   ]
  },
  {
   "cell_type": "code",
   "execution_count": 9,
   "metadata": {},
   "outputs": [
    {
     "data": {
      "image/png": "[encoded data removed]",
      "text/plain": [
       "<Figure size 640x480 with 1 Axes>"
      ]
     },
     "metadata": {},
     "output_type": "display_data"
    }
   ],
   "source": [
    "show_environment(ENV_ID)"
   ]
  },
  {
   "cell_type": "code",
   "execution_count": 19,
   "metadata": {},
   "outputs": [],
   "source": [
    "vec_env = make_vec_env(ENV_ID, n_envs=4, monitor_dir=LOGS_PATH)"
   ]
  },
  {
   "cell_type": "code",
   "execution_count": 20,
   "metadata": {},
   "outputs": [
    {
     "name": "stdout",
     "output_type": "stream",
     "text": [
      "Observation Space:\n",
      "  Box(shape=(8,), dtype=float32, low=-10.0, high=10.0)\n",
      "  Example observation: [ 0.41224033  1.3086056   8.883539   -9.431838   -2.6359231  -4.824621\n",
      "  0.32064357  0.11574553]\n",
      "\n",
      "Action Space:\n",
      "  Discrete(n=4)\n",
      "  Example action: 1\n",
      "\n",
      "Max episode steps: 1000\n"
     ]
    }
   ],
   "source": [
    "describe_environment(vec_env)"
   ]
  },
  {
   "cell_type": "code",
   "execution_count": null,
   "metadata": {},
   "outputs": [],
   "source": []
  }
 ],
 "metadata": {
  "language_info": {
   "name": "python",
   "pygments_lexer": "ipython3"
  }
 },
 "nbformat": 4,
 "nbformat_minor": 0
}
